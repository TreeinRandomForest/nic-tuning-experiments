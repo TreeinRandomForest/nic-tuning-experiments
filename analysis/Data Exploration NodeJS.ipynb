{
 "cells": [
  {
   "cell_type": "code",
   "execution_count": 1,
   "metadata": {},
   "outputs": [],
   "source": [
    "%load_ext autoreload\n",
    "%autoreload 2\n",
    "%matplotlib inline"
   ]
  },
  {
   "cell_type": "code",
   "execution_count": 42,
   "metadata": {},
   "outputs": [],
   "source": [
    "import pandas as pd\n",
    "import matplotlib.pylab as plt\n",
    "import numpy as np\n",
    "\n",
    "from analysis import *"
   ]
  },
  {
   "cell_type": "code",
   "execution_count": 43,
   "metadata": {},
   "outputs": [
    {
     "name": "stdout",
     "output_type": "stream",
     "text": [
      "Dropping rows with time <= 29\n",
      "Before: 3044\n",
      "After: 2968\n",
      "\n",
      "Dropping 24 outlier rows\n",
      "Before: 2968\n",
      "After: 2944\n",
      "('ebbrt', 3, 6, '0x1900', 135)\n",
      "('ebbrt', 1, 8, '0x1d00', 135)\n",
      "('ebbrt', 3, 8, '0xd00', 135)\n",
      "('ebbrt', 5, 12, '0x1300', 135)\n",
      "('ebbrt', 6, 24, '0x1500', 135)\n",
      "('ebbrt', 0, 28, '0x1b00', 55)\n",
      "('ebbrt', 8, 32, '0x1100', 135)\n",
      "('ebbrt', 0, 36, '0x1d00', 55)\n",
      "('ebbrt', 3, 40, '0x1900', 135)\n",
      "('ebbrt', 3, 80, '0x1d00', 135)\n",
      "('ebbrt', 3, 80, '0xf00', 135)\n",
      "('linux', 1, 6, '0x1700', 135)\n",
      "('linux', 1, 8, '0x1900', 55)\n",
      "('linux', 1, 12, '0x1500', 135)\n",
      "('linux', 6, 16, '0x1b00', 135)\n",
      "('linux', 1, 16, '0xd00', 135)\n",
      "('linux', 1, 20, '0x1300', 55)\n",
      "('linux', 1, 28, '0x1100', 135)\n",
      "('linux', 1, 28, '0x1d00', 55)\n",
      "('linux', 2, 28, '0x1d00', 135)\n",
      "('linux', 1, 36, '0x1b00', 135)\n",
      "('linux', 6, 40, '0x1500', 135)\n",
      "('linux', 2, 80, '0x1900', 55)\n",
      "('linux', 4, 80, '0x1900', 135)\n"
     ]
    },
    {
     "ename": "IndexError",
     "evalue": "single positional indexer is out-of-bounds",
     "output_type": "error",
     "traceback": [
      "\u001b[0;31m---------------------------------------------------------------------------\u001b[0m",
      "\u001b[0;31mIndexError\u001b[0m                                Traceback (most recent call last)",
      "\u001b[0;32m<ipython-input-43-ab27d52da2f9>\u001b[0m in \u001b[0;36m<module>\u001b[0;34m\u001b[0m\n\u001b[1;32m      1\u001b[0m \u001b[0mdf\u001b[0m\u001b[0;34m,\u001b[0m \u001b[0mdfr\u001b[0m\u001b[0;34m,\u001b[0m \u001b[0moutlier_list\u001b[0m \u001b[0;34m=\u001b[0m \u001b[0mstart_nodejs_analysis\u001b[0m\u001b[0;34m(\u001b[0m\u001b[0;34m'aug3/nodejs_8_3.csv'\u001b[0m\u001b[0;34m)\u001b[0m\u001b[0;34m\u001b[0m\u001b[0;34m\u001b[0m\u001b[0m\n\u001b[1;32m      2\u001b[0m \u001b[0;32mfor\u001b[0m \u001b[0mx\u001b[0m \u001b[0;32min\u001b[0m \u001b[0moutlier_list\u001b[0m\u001b[0;34m:\u001b[0m \u001b[0mprint\u001b[0m\u001b[0;34m(\u001b[0m\u001b[0mx\u001b[0m\u001b[0;34m)\u001b[0m\u001b[0;34m\u001b[0m\u001b[0;34m\u001b[0m\u001b[0m\n\u001b[0;32m----> 3\u001b[0;31m \u001b[0mr\u001b[0m\u001b[0;34m,\u001b[0m\u001b[0mtl\u001b[0m\u001b[0;34m,\u001b[0m\u001b[0mte\u001b[0m \u001b[0;34m=\u001b[0m \u001b[0mwrite_nodejs_table\u001b[0m\u001b[0;34m(\u001b[0m\u001b[0mdf\u001b[0m\u001b[0;34m)\u001b[0m\u001b[0;34m\u001b[0m\u001b[0;34m\u001b[0m\u001b[0m\n\u001b[0m\u001b[1;32m      4\u001b[0m \u001b[0;34m\u001b[0m\u001b[0m\n\u001b[1;32m      5\u001b[0m \u001b[0;32mfor\u001b[0m \u001b[0mx\u001b[0m \u001b[0;32min\u001b[0m \u001b[0mtl\u001b[0m\u001b[0;34m:\u001b[0m \u001b[0mprint\u001b[0m\u001b[0;34m(\u001b[0m\u001b[0mx\u001b[0m\u001b[0;34m)\u001b[0m\u001b[0;34m\u001b[0m\u001b[0;34m\u001b[0m\u001b[0m\n",
      "\u001b[0;32m~/sesa-papers/ukpwr/logs/analysis.py\u001b[0m in \u001b[0;36mwrite_nodejs_table\u001b[0;34m(df)\u001b[0m\n\u001b[1;32m    571\u001b[0m \u001b[0;34m\u001b[0m\u001b[0m\n\u001b[1;32m    572\u001b[0m             \u001b[0;31m#val 1\u001b[0m\u001b[0;34m\u001b[0m\u001b[0;34m\u001b[0m\u001b[0;34m\u001b[0m\u001b[0m\n\u001b[0;32m--> 573\u001b[0;31m             \u001b[0mresults\u001b[0m\u001b[0;34m[\u001b[0m\u001b[0;34m'linux'\u001b[0m\u001b[0;34m]\u001b[0m\u001b[0;34m[\u001b[0m\u001b[0;34m'pol_pol_edp'\u001b[0m\u001b[0;34m]\u001b[0m \u001b[0;34m=\u001b[0m \u001b[0;34m(\u001b[0m\u001b[0mdf_pol_pol\u001b[0m\u001b[0;34m.\u001b[0m\u001b[0medp_mean\u001b[0m\u001b[0;34m.\u001b[0m\u001b[0miloc\u001b[0m\u001b[0;34m[\u001b[0m\u001b[0;36m0\u001b[0m\u001b[0;34m]\u001b[0m\u001b[0;34m,\u001b[0m \u001b[0mdf_pol_pol\u001b[0m\u001b[0;34m.\u001b[0m\u001b[0medp_std\u001b[0m\u001b[0;34m.\u001b[0m\u001b[0miloc\u001b[0m\u001b[0;34m[\u001b[0m\u001b[0;36m0\u001b[0m\u001b[0;34m]\u001b[0m\u001b[0;34m)\u001b[0m\u001b[0;34m\u001b[0m\u001b[0;34m\u001b[0m\u001b[0m\n\u001b[0m\u001b[1;32m    574\u001b[0m             \u001b[0mresults\u001b[0m\u001b[0;34m[\u001b[0m\u001b[0;34m'linux'\u001b[0m\u001b[0;34m]\u001b[0m\u001b[0;34m[\u001b[0m\u001b[0;34mf'pol_pol_{eff_metric}'\u001b[0m\u001b[0;34m]\u001b[0m \u001b[0;34m=\u001b[0m \u001b[0;34m(\u001b[0m\u001b[0mdf_pol_pol\u001b[0m\u001b[0;34m[\u001b[0m\u001b[0meff_metric_mean\u001b[0m\u001b[0;34m]\u001b[0m\u001b[0;34m.\u001b[0m\u001b[0miloc\u001b[0m\u001b[0;34m[\u001b[0m\u001b[0;36m0\u001b[0m\u001b[0;34m]\u001b[0m\u001b[0;34m,\u001b[0m \u001b[0mdf_pol_pol\u001b[0m\u001b[0;34m[\u001b[0m\u001b[0meff_metric_std\u001b[0m\u001b[0;34m]\u001b[0m\u001b[0;34m.\u001b[0m\u001b[0miloc\u001b[0m\u001b[0;34m[\u001b[0m\u001b[0;36m0\u001b[0m\u001b[0;34m]\u001b[0m\u001b[0;34m)\u001b[0m\u001b[0;34m\u001b[0m\u001b[0;34m\u001b[0m\u001b[0m\n\u001b[1;32m    575\u001b[0m \u001b[0;34m\u001b[0m\u001b[0m\n",
      "\u001b[0;32m~/FinalObjectDetection/venv_detectron/lib/python3.7/site-packages/pandas/core/indexing.py\u001b[0m in \u001b[0;36m__getitem__\u001b[0;34m(self, key)\u001b[0m\n\u001b[1;32m   1765\u001b[0m \u001b[0;34m\u001b[0m\u001b[0m\n\u001b[1;32m   1766\u001b[0m             \u001b[0mmaybe_callable\u001b[0m \u001b[0;34m=\u001b[0m \u001b[0mcom\u001b[0m\u001b[0;34m.\u001b[0m\u001b[0mapply_if_callable\u001b[0m\u001b[0;34m(\u001b[0m\u001b[0mkey\u001b[0m\u001b[0;34m,\u001b[0m \u001b[0mself\u001b[0m\u001b[0;34m.\u001b[0m\u001b[0mobj\u001b[0m\u001b[0;34m)\u001b[0m\u001b[0;34m\u001b[0m\u001b[0;34m\u001b[0m\u001b[0m\n\u001b[0;32m-> 1767\u001b[0;31m             \u001b[0;32mreturn\u001b[0m \u001b[0mself\u001b[0m\u001b[0;34m.\u001b[0m\u001b[0m_getitem_axis\u001b[0m\u001b[0;34m(\u001b[0m\u001b[0mmaybe_callable\u001b[0m\u001b[0;34m,\u001b[0m \u001b[0maxis\u001b[0m\u001b[0;34m=\u001b[0m\u001b[0maxis\u001b[0m\u001b[0;34m)\u001b[0m\u001b[0;34m\u001b[0m\u001b[0;34m\u001b[0m\u001b[0m\n\u001b[0m\u001b[1;32m   1768\u001b[0m \u001b[0;34m\u001b[0m\u001b[0m\n\u001b[1;32m   1769\u001b[0m     \u001b[0;32mdef\u001b[0m \u001b[0m_is_scalar_access\u001b[0m\u001b[0;34m(\u001b[0m\u001b[0mself\u001b[0m\u001b[0;34m,\u001b[0m \u001b[0mkey\u001b[0m\u001b[0;34m:\u001b[0m \u001b[0mTuple\u001b[0m\u001b[0;34m)\u001b[0m\u001b[0;34m:\u001b[0m\u001b[0;34m\u001b[0m\u001b[0;34m\u001b[0m\u001b[0m\n",
      "\u001b[0;32m~/FinalObjectDetection/venv_detectron/lib/python3.7/site-packages/pandas/core/indexing.py\u001b[0m in \u001b[0;36m_getitem_axis\u001b[0;34m(self, key, axis)\u001b[0m\n\u001b[1;32m   2135\u001b[0m \u001b[0;34m\u001b[0m\u001b[0m\n\u001b[1;32m   2136\u001b[0m             \u001b[0;31m# validate the location\u001b[0m\u001b[0;34m\u001b[0m\u001b[0;34m\u001b[0m\u001b[0;34m\u001b[0m\u001b[0m\n\u001b[0;32m-> 2137\u001b[0;31m             \u001b[0mself\u001b[0m\u001b[0;34m.\u001b[0m\u001b[0m_validate_integer\u001b[0m\u001b[0;34m(\u001b[0m\u001b[0mkey\u001b[0m\u001b[0;34m,\u001b[0m \u001b[0maxis\u001b[0m\u001b[0;34m)\u001b[0m\u001b[0;34m\u001b[0m\u001b[0;34m\u001b[0m\u001b[0m\n\u001b[0m\u001b[1;32m   2138\u001b[0m \u001b[0;34m\u001b[0m\u001b[0m\n\u001b[1;32m   2139\u001b[0m             \u001b[0;32mreturn\u001b[0m \u001b[0mself\u001b[0m\u001b[0;34m.\u001b[0m\u001b[0m_get_loc\u001b[0m\u001b[0;34m(\u001b[0m\u001b[0mkey\u001b[0m\u001b[0;34m,\u001b[0m \u001b[0maxis\u001b[0m\u001b[0;34m=\u001b[0m\u001b[0maxis\u001b[0m\u001b[0;34m)\u001b[0m\u001b[0;34m\u001b[0m\u001b[0;34m\u001b[0m\u001b[0m\n",
      "\u001b[0;32m~/FinalObjectDetection/venv_detectron/lib/python3.7/site-packages/pandas/core/indexing.py\u001b[0m in \u001b[0;36m_validate_integer\u001b[0;34m(self, key, axis)\u001b[0m\n\u001b[1;32m   2060\u001b[0m         \u001b[0mlen_axis\u001b[0m \u001b[0;34m=\u001b[0m \u001b[0mlen\u001b[0m\u001b[0;34m(\u001b[0m\u001b[0mself\u001b[0m\u001b[0;34m.\u001b[0m\u001b[0mobj\u001b[0m\u001b[0;34m.\u001b[0m\u001b[0m_get_axis\u001b[0m\u001b[0;34m(\u001b[0m\u001b[0maxis\u001b[0m\u001b[0;34m)\u001b[0m\u001b[0;34m)\u001b[0m\u001b[0;34m\u001b[0m\u001b[0;34m\u001b[0m\u001b[0m\n\u001b[1;32m   2061\u001b[0m         \u001b[0;32mif\u001b[0m \u001b[0mkey\u001b[0m \u001b[0;34m>=\u001b[0m \u001b[0mlen_axis\u001b[0m \u001b[0;32mor\u001b[0m \u001b[0mkey\u001b[0m \u001b[0;34m<\u001b[0m \u001b[0;34m-\u001b[0m\u001b[0mlen_axis\u001b[0m\u001b[0;34m:\u001b[0m\u001b[0;34m\u001b[0m\u001b[0;34m\u001b[0m\u001b[0m\n\u001b[0;32m-> 2062\u001b[0;31m             \u001b[0;32mraise\u001b[0m \u001b[0mIndexError\u001b[0m\u001b[0;34m(\u001b[0m\u001b[0;34m\"single positional indexer is out-of-bounds\"\u001b[0m\u001b[0;34m)\u001b[0m\u001b[0;34m\u001b[0m\u001b[0;34m\u001b[0m\u001b[0m\n\u001b[0m\u001b[1;32m   2063\u001b[0m \u001b[0;34m\u001b[0m\u001b[0m\n\u001b[1;32m   2064\u001b[0m     \u001b[0;32mdef\u001b[0m \u001b[0m_getitem_tuple\u001b[0m\u001b[0;34m(\u001b[0m\u001b[0mself\u001b[0m\u001b[0;34m,\u001b[0m \u001b[0mtup\u001b[0m\u001b[0;34m:\u001b[0m \u001b[0mTuple\u001b[0m\u001b[0;34m)\u001b[0m\u001b[0;34m:\u001b[0m\u001b[0;34m\u001b[0m\u001b[0;34m\u001b[0m\u001b[0m\n",
      "\u001b[0;31mIndexError\u001b[0m: single positional indexer is out-of-bounds"
     ]
    }
   ],
   "source": [
    "df, dfr, outlier_list = start_nodejs_analysis('aug3/nodejs_8_3.csv')\n",
    "for x in outlier_list: print(x)\n",
    "r,tl,te = write_nodejs_table(df)\n",
    "\n",
    "for x in tl: print(x)\n",
    "for x in te: print(x)"
   ]
  },
  {
   "cell_type": "code",
   "execution_count": 50,
   "metadata": {},
   "outputs": [
    {
     "name": "stdout",
     "output_type": "stream",
     "text": [
      "Dropping rows with time <= 29\n",
      "Before: 3142\n",
      "After: 3068\n",
      "\n",
      "Dropping 0 outlier rows\n",
      "Before: 3068\n",
      "After: 3068\n",
      "Match found in row 0\n",
      "NodeJS: & $14701.049 \\pm 124.418$ & $367.477 \\pm 4.236$ & $12864.951 \\pm 122.798$ & $391.582 \\pm 5.600$ & $14766.383 \\pm 162.696$ & $402.713 \\pm 4.009$ \\\\ \\hline\n",
      "NodeJS: & $14200.412 \\pm 73.321$ & $539.660 \\pm 16.575$ & $12634.927 \\pm 7.875$ & $594.315 \\pm 6.293$ \\\\ \\hline\n"
     ]
    }
   ],
   "source": [
    "df, dfr, outlier_list = start_nodejs_analysis('aug4/nodejs_8_4.csv')\n",
    "for x in outlier_list: print(x)\n",
    "r,tl,te = write_nodejs_table(df)\n",
    "\n",
    "for x in tl: print(x)\n",
    "for x in te: print(x)"
   ]
  },
  {
   "cell_type": "code",
   "execution_count": 59,
   "metadata": {},
   "outputs": [
    {
     "data": {
      "text/plain": [
       "0       500655\n",
       "1       496122\n",
       "2       515847\n",
       "3       510468\n",
       "4       521751\n",
       "         ...  \n",
       "3063    356097\n",
       "3064    358208\n",
       "3065    360678\n",
       "3066    360513\n",
       "3067    357571\n",
       "Name: requests, Length: 3068, dtype: int64"
      ]
     },
     "execution_count": 59,
     "metadata": {},
     "output_type": "execute_result"
    }
   ],
   "source": [
    "dfr.requests"
   ]
  },
  {
   "cell_type": "code",
   "execution_count": 61,
   "metadata": {},
   "outputs": [
    {
     "data": {
      "text/plain": [
       "0       6.012124\n",
       "1       6.067056\n",
       "2       5.835063\n",
       "3       5.896550\n",
       "4       5.769035\n",
       "          ...   \n",
       "3063    8.452753\n",
       "3064    8.402939\n",
       "3065    8.345394\n",
       "3066    8.349213\n",
       "3067    8.417909\n",
       "Length: 3068, dtype: float64"
      ]
     },
     "execution_count": 61,
     "metadata": {},
     "output_type": "execute_result"
    }
   ],
   "source": [
    "(100000 / dfr.requests) * dfr.time"
   ]
  },
  {
   "cell_type": "code",
   "execution_count": 62,
   "metadata": {},
   "outputs": [
    {
     "data": {
      "text/plain": [
       "Index(['sys', 'i', 'itr', 'dvfs', 'rapl', 'lat50', 'lat75', 'lat90', 'lat99',\n",
       "       'requests', 'time', 'joule', 'ins', 'cyc', 'refcyc', 'llcm', 'c3', 'c6',\n",
       "       'c7', 'START_RDTSC', 'END_RDTSC', 'joules', 'edp', 'tput', 'eput'],\n",
       "      dtype='object')"
      ]
     },
     "execution_count": 62,
     "metadata": {},
     "output_type": "execute_result"
    }
   ],
   "source": [
    "dfr[['requests', 'time', 'joule', 'ins']]"
   ]
  },
  {
   "cell_type": "markdown",
   "metadata": {},
   "source": [
    "### Differences between NodeJS Aug 3 dataset and Aug 4 dataset\n",
    "\n",
    "Aug 4 has dynamic policies for ITR and DVFS (in addition to tuned data)"
   ]
  },
  {
   "cell_type": "code",
   "execution_count": 45,
   "metadata": {},
   "outputs": [
    {
     "name": "stdout",
     "output_type": "stream",
     "text": [
      "Dropping rows with time <= 29\n",
      "Before: 3044\n",
      "After: 2968\n",
      "\n",
      "Dropping 24 outlier rows\n",
      "Before: 2968\n",
      "After: 2944\n",
      "Dropping rows with time <= 29\n",
      "Before: 3142\n",
      "After: 3068\n",
      "\n",
      "Dropping 0 outlier rows\n",
      "Before: 3068\n",
      "After: 3068\n"
     ]
    }
   ],
   "source": [
    "df1,_,_ = start_nodejs_analysis('aug3/nodejs_8_3.csv')\n",
    "df2,_,_ = start_nodejs_analysis('aug4/nodejs_8_4.csv')"
   ]
  },
  {
   "cell_type": "code",
   "execution_count": 46,
   "metadata": {},
   "outputs": [
    {
     "data": {
      "text/plain": [
       "(432, 46)"
      ]
     },
     "execution_count": 46,
     "metadata": {},
     "output_type": "execute_result"
    }
   ],
   "source": [
    "df1.shape"
   ]
  },
  {
   "cell_type": "code",
   "execution_count": 47,
   "metadata": {},
   "outputs": [
    {
     "data": {
      "text/plain": [
       "(442, 46)"
      ]
     },
     "execution_count": 47,
     "metadata": {},
     "output_type": "execute_result"
    }
   ],
   "source": [
    "df2.shape"
   ]
  },
  {
   "cell_type": "code",
   "execution_count": 48,
   "metadata": {},
   "outputs": [],
   "source": [
    "vals1 = set(df1.set_index(['sys', 'itr', 'dvfs', 'rapl']).index)\n",
    "vals2 = set(df2.set_index(['sys', 'itr', 'dvfs', 'rapl']).index)"
   ]
  },
  {
   "cell_type": "code",
   "execution_count": 49,
   "metadata": {},
   "outputs": [
    {
     "data": {
      "text/plain": [
       "{('linux', 1, '0x1100', 135),\n",
       " ('linux', 1, '0x1300', 135),\n",
       " ('linux', 1, '0x1500', 135),\n",
       " ('linux', 1, '0x1700', 135),\n",
       " ('linux', 1, '0x1900', 135),\n",
       " ('linux', 1, '0x1b00', 135),\n",
       " ('linux', 1, '0x1d00', 135),\n",
       " ('linux', 1, '0xd00', 135),\n",
       " ('linux', 1, '0xf00', 135),\n",
       " ('linux', 1, '0xffff', 135)}"
      ]
     },
     "execution_count": 49,
     "metadata": {},
     "output_type": "execute_result"
    }
   ],
   "source": [
    "vals2.difference(vals1)"
   ]
  },
  {
   "cell_type": "code",
   "execution_count": 41,
   "metadata": {},
   "outputs": [
    {
     "data": {
      "text/plain": [
       "array(['0x1100', '0x1300', '0x1500', '0x1700', '0x1900', '0x1b00',\n",
       "       '0x1d00', '0xd00', '0xf00', '0xffff'], dtype=object)"
      ]
     },
     "execution_count": 41,
     "metadata": {},
     "output_type": "execute_result"
    }
   ],
   "source": [
    "df2.dvfs.unique()"
   ]
  },
  {
   "cell_type": "code",
   "execution_count": null,
   "metadata": {},
   "outputs": [],
   "source": []
  }
 ],
 "metadata": {
  "kernelspec": {
   "display_name": "Python 3",
   "language": "python",
   "name": "python3"
  },
  "language_info": {
   "codemirror_mode": {
    "name": "ipython",
    "version": 3
   },
   "file_extension": ".py",
   "mimetype": "text/x-python",
   "name": "python",
   "nbconvert_exporter": "python",
   "pygments_lexer": "ipython3",
   "version": "3.7.6"
  },
  "toc": {
   "base_numbering": 1,
   "nav_menu": {},
   "number_sections": false,
   "sideBar": true,
   "skip_h1_title": false,
   "title_cell": "Table of Contents",
   "title_sidebar": "Contents",
   "toc_cell": false,
   "toc_position": {},
   "toc_section_display": true,
   "toc_window_display": false
  }
 },
 "nbformat": 4,
 "nbformat_minor": 4
}
